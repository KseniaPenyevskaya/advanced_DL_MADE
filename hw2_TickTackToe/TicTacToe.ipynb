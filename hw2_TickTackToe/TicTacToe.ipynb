{
  "nbformat": 4,
  "nbformat_minor": 0,
  "metadata": {
    "colab": {
      "name": "TicTacToe",
      "provenance": [],
      "collapsed_sections": []
    },
    "kernelspec": {
      "name": "python3",
      "display_name": "Python 3"
    },
    "widgets": {
      "application/vnd.jupyter.widget-state+json": {
        "9bd35903c16f49f98630e049e33fe20f": {
          "model_module": "@jupyter-widgets/controls",
          "model_name": "HBoxModel",
          "state": {
            "_view_name": "HBoxView",
            "_dom_classes": [],
            "_model_name": "HBoxModel",
            "_view_module": "@jupyter-widgets/controls",
            "_model_module_version": "1.5.0",
            "_view_count": null,
            "_view_module_version": "1.5.0",
            "box_style": "",
            "layout": "IPY_MODEL_dc3efe3d6ab14322b537fdba04d564ab",
            "_model_module": "@jupyter-widgets/controls",
            "children": [
              "IPY_MODEL_6983798e99384681ac008e3d724b7e32",
              "IPY_MODEL_ea75ca6e960343aab43913b92c9de755"
            ]
          }
        },
        "dc3efe3d6ab14322b537fdba04d564ab": {
          "model_module": "@jupyter-widgets/base",
          "model_name": "LayoutModel",
          "state": {
            "_view_name": "LayoutView",
            "grid_template_rows": null,
            "right": null,
            "justify_content": null,
            "_view_module": "@jupyter-widgets/base",
            "overflow": null,
            "_model_module_version": "1.2.0",
            "_view_count": null,
            "flex_flow": null,
            "width": null,
            "min_width": null,
            "border": null,
            "align_items": null,
            "bottom": null,
            "_model_module": "@jupyter-widgets/base",
            "top": null,
            "grid_column": null,
            "overflow_y": null,
            "overflow_x": null,
            "grid_auto_flow": null,
            "grid_area": null,
            "grid_template_columns": null,
            "flex": null,
            "_model_name": "LayoutModel",
            "justify_items": null,
            "grid_row": null,
            "max_height": null,
            "align_content": null,
            "visibility": null,
            "align_self": null,
            "height": null,
            "min_height": null,
            "padding": null,
            "grid_auto_rows": null,
            "grid_gap": null,
            "max_width": null,
            "order": null,
            "_view_module_version": "1.2.0",
            "grid_template_areas": null,
            "object_position": null,
            "object_fit": null,
            "grid_auto_columns": null,
            "margin": null,
            "display": null,
            "left": null
          }
        },
        "6983798e99384681ac008e3d724b7e32": {
          "model_module": "@jupyter-widgets/controls",
          "model_name": "FloatProgressModel",
          "state": {
            "_view_name": "ProgressView",
            "style": "IPY_MODEL_d27cdd4872e442068ee8a670cdf3096d",
            "_dom_classes": [],
            "description": "100%",
            "_model_name": "FloatProgressModel",
            "bar_style": "success",
            "max": 100000,
            "_view_module": "@jupyter-widgets/controls",
            "_model_module_version": "1.5.0",
            "value": 100000,
            "_view_count": null,
            "_view_module_version": "1.5.0",
            "orientation": "horizontal",
            "min": 0,
            "description_tooltip": null,
            "_model_module": "@jupyter-widgets/controls",
            "layout": "IPY_MODEL_f009f630b9a6404eb87366ac9e6e18a0"
          }
        },
        "ea75ca6e960343aab43913b92c9de755": {
          "model_module": "@jupyter-widgets/controls",
          "model_name": "HTMLModel",
          "state": {
            "_view_name": "HTMLView",
            "style": "IPY_MODEL_6f157a174eaa4f66b056479fb57044b5",
            "_dom_classes": [],
            "description": "",
            "_model_name": "HTMLModel",
            "placeholder": "​",
            "_view_module": "@jupyter-widgets/controls",
            "_model_module_version": "1.5.0",
            "value": " 100000/100000 [01:19&lt;00:00, 1258.48it/s]",
            "_view_count": null,
            "_view_module_version": "1.5.0",
            "description_tooltip": null,
            "_model_module": "@jupyter-widgets/controls",
            "layout": "IPY_MODEL_56113d9bd94d45cfa28b64d357df1ed7"
          }
        },
        "d27cdd4872e442068ee8a670cdf3096d": {
          "model_module": "@jupyter-widgets/controls",
          "model_name": "ProgressStyleModel",
          "state": {
            "_view_name": "StyleView",
            "_model_name": "ProgressStyleModel",
            "description_width": "initial",
            "_view_module": "@jupyter-widgets/base",
            "_model_module_version": "1.5.0",
            "_view_count": null,
            "_view_module_version": "1.2.0",
            "bar_color": null,
            "_model_module": "@jupyter-widgets/controls"
          }
        },
        "f009f630b9a6404eb87366ac9e6e18a0": {
          "model_module": "@jupyter-widgets/base",
          "model_name": "LayoutModel",
          "state": {
            "_view_name": "LayoutView",
            "grid_template_rows": null,
            "right": null,
            "justify_content": null,
            "_view_module": "@jupyter-widgets/base",
            "overflow": null,
            "_model_module_version": "1.2.0",
            "_view_count": null,
            "flex_flow": null,
            "width": null,
            "min_width": null,
            "border": null,
            "align_items": null,
            "bottom": null,
            "_model_module": "@jupyter-widgets/base",
            "top": null,
            "grid_column": null,
            "overflow_y": null,
            "overflow_x": null,
            "grid_auto_flow": null,
            "grid_area": null,
            "grid_template_columns": null,
            "flex": null,
            "_model_name": "LayoutModel",
            "justify_items": null,
            "grid_row": null,
            "max_height": null,
            "align_content": null,
            "visibility": null,
            "align_self": null,
            "height": null,
            "min_height": null,
            "padding": null,
            "grid_auto_rows": null,
            "grid_gap": null,
            "max_width": null,
            "order": null,
            "_view_module_version": "1.2.0",
            "grid_template_areas": null,
            "object_position": null,
            "object_fit": null,
            "grid_auto_columns": null,
            "margin": null,
            "display": null,
            "left": null
          }
        },
        "6f157a174eaa4f66b056479fb57044b5": {
          "model_module": "@jupyter-widgets/controls",
          "model_name": "DescriptionStyleModel",
          "state": {
            "_view_name": "StyleView",
            "_model_name": "DescriptionStyleModel",
            "description_width": "",
            "_view_module": "@jupyter-widgets/base",
            "_model_module_version": "1.5.0",
            "_view_count": null,
            "_view_module_version": "1.2.0",
            "_model_module": "@jupyter-widgets/controls"
          }
        },
        "56113d9bd94d45cfa28b64d357df1ed7": {
          "model_module": "@jupyter-widgets/base",
          "model_name": "LayoutModel",
          "state": {
            "_view_name": "LayoutView",
            "grid_template_rows": null,
            "right": null,
            "justify_content": null,
            "_view_module": "@jupyter-widgets/base",
            "overflow": null,
            "_model_module_version": "1.2.0",
            "_view_count": null,
            "flex_flow": null,
            "width": null,
            "min_width": null,
            "border": null,
            "align_items": null,
            "bottom": null,
            "_model_module": "@jupyter-widgets/base",
            "top": null,
            "grid_column": null,
            "overflow_y": null,
            "overflow_x": null,
            "grid_auto_flow": null,
            "grid_area": null,
            "grid_template_columns": null,
            "flex": null,
            "_model_name": "LayoutModel",
            "justify_items": null,
            "grid_row": null,
            "max_height": null,
            "align_content": null,
            "visibility": null,
            "align_self": null,
            "height": null,
            "min_height": null,
            "padding": null,
            "grid_auto_rows": null,
            "grid_gap": null,
            "max_width": null,
            "order": null,
            "_view_module_version": "1.2.0",
            "grid_template_areas": null,
            "object_position": null,
            "object_fit": null,
            "grid_auto_columns": null,
            "margin": null,
            "display": null,
            "left": null
          }
        }
      }
    }
  },
  "cells": [
    {
      "cell_type": "code",
      "metadata": {
        "id": "K9NYmg7KJpRl"
      },
      "source": [
        "import gym\r\n",
        "\r\n",
        "import matplotlib as mpl\r\n",
        "import matplotlib.pyplot as plt\r\n",
        "import seaborn as sns\r\n",
        "import json\r\n",
        "import math\r\n",
        "import random\r\n",
        "import numpy as np\r\n",
        "import scipy as sp\r\n",
        "import scipy.stats as st\r\n",
        "import scipy.integrate as integrate\r\n",
        "from scipy.stats import multivariate_normal\r\n",
        "from sklearn import linear_model\r\n",
        "from sklearn.utils.testing import ignore_warnings\r\n",
        "from sklearn.exceptions import ConvergenceWarning\r\n",
        "import statsmodels.api as sm\r\n",
        "from matplotlib.colors import LogNorm\r\n",
        "import pickle\r\n",
        "\r\n",
        "from joblib import Parallel, delayed\r\n",
        "import multiprocessing\r\n",
        "from collections import namedtuple\r\n",
        "from itertools import count\r\n",
        "from tqdm.notebook import tqdm_notebook\r\n",
        "\r\n",
        "import cProfile\r\n",
        "from datetime import datetime\r\n",
        "\r\n",
        "import torch\r\n",
        "import torch.nn as nn\r\n",
        "import torch.optim as optim\r\n",
        "import torch.nn.functional as F\r\n",
        "import torchvision.transforms as T\r\n",
        "from torch.autograd import Variable\r\n",
        "\r\n",
        "sns.set_style(\"whitegrid\")\r\n",
        "sns.set_palette(\"colorblind\")\r\n",
        "palette = sns.color_palette()\r\n",
        "figsize = (15,8)\r\n",
        "legend_fontsize = 16"
      ],
      "execution_count": 55,
      "outputs": []
    },
    {
      "cell_type": "code",
      "metadata": {
        "id": "yEKeDfDkJ_9n"
      },
      "source": [
        "N_ROWS, N_COLS, N_WIN = 3, 3, 3"
      ],
      "execution_count": 6,
      "outputs": []
    },
    {
      "cell_type": "code",
      "metadata": {
        "id": "WOa4WYC7J0MY"
      },
      "source": [
        "class TicTacToe(gym.Env):\r\n",
        "    def __init__(self, n_rows=N_ROWS, n_cols=N_COLS, n_win=N_WIN):\r\n",
        "        self.n_rows = n_rows\r\n",
        "        self.n_cols = n_cols\r\n",
        "        self.n_win = n_win\r\n",
        "\r\n",
        "        self.board = np.zeros((self.n_rows, self.n_cols), dtype=int)\r\n",
        "        self.gameOver = False\r\n",
        "        self.boardHash = None\r\n",
        "        # ход первого игрока\r\n",
        "        self.curTurn = 1\r\n",
        "        self.emptySpaces = None\r\n",
        "        \r\n",
        "        self.reset()\r\n",
        "\r\n",
        "    def getEmptySpaces(self):\r\n",
        "        if self.emptySpaces is None:\r\n",
        "            res = np.where(self.board == 0)\r\n",
        "            self.emptySpaces = np.array([ (i, j) for i,j in zip(res[0], res[1]) ])\r\n",
        "        return self.emptySpaces\r\n",
        "\r\n",
        "    def makeMove(self, player, i, j):\r\n",
        "        self.board[i, j] = player\r\n",
        "        self.emptySpaces = None\r\n",
        "        self.boardHash = None\r\n",
        "\r\n",
        "    def getHash(self):\r\n",
        "        if self.boardHash is None:\r\n",
        "            self.boardHash = ''.join(['%s' % (x+1) for x in self.board.reshape(self.n_rows * self.n_cols)])\r\n",
        "        return self.boardHash\r\n",
        "\r\n",
        "    def isTerminal(self):\r\n",
        "        # проверим, не закончилась ли игра\r\n",
        "        cur_marks, cur_p = np.where(self.board == self.curTurn), self.curTurn\r\n",
        "        for i,j in zip(cur_marks[0], cur_marks[1]):\r\n",
        "#             print((i,j))\r\n",
        "            win = False\r\n",
        "            if i <= self.n_rows - self.n_win:\r\n",
        "                if np.all(self.board[i:i+self.n_win, j] == cur_p):\r\n",
        "                    win = True\r\n",
        "            if not win:\r\n",
        "                if j <= self.n_cols - self.n_win:\r\n",
        "                    if np.all(self.board[i,j:j+self.n_win] == cur_p):\r\n",
        "                        win = True\r\n",
        "            if not win:\r\n",
        "                if i <= self.n_rows - self.n_win and j <= self.n_cols - self.n_win:\r\n",
        "                    if np.all(np.array([ self.board[i+k,j+k] == cur_p for k in range(self.n_win) ])):\r\n",
        "                        win = True\r\n",
        "            if not win:\r\n",
        "                if i <= self.n_rows - self.n_win and j >= self.n_win-1:\r\n",
        "                    if np.all(np.array([ self.board[i+k,j-k] == cur_p for k in range(self.n_win) ])):\r\n",
        "                        win = True\r\n",
        "            if win:\r\n",
        "                self.gameOver = True\r\n",
        "                return self.curTurn\r\n",
        "\r\n",
        "        if len(self.getEmptySpaces()) == 0:\r\n",
        "            self.gameOver = True\r\n",
        "            return 0\r\n",
        "\r\n",
        "        self.gameOver = False\r\n",
        "        return None\r\n",
        "\r\n",
        "    def printBoard(self):\r\n",
        "        for i in range(0, self.n_rows):\r\n",
        "            print('----'*(self.n_cols)+'-')\r\n",
        "            out = '| '\r\n",
        "            for j in range(0, self.n_cols):\r\n",
        "                if self.board[i, j] == 1:\r\n",
        "                    token = 'x'\r\n",
        "                if self.board[i, j] == -1:\r\n",
        "                    token = 'o'\r\n",
        "                if self.board[i, j] == 0:\r\n",
        "                    token = ' '\r\n",
        "                out += token + ' | '\r\n",
        "            print(out)\r\n",
        "        print('----'*(self.n_cols)+'-')\r\n",
        "\r\n",
        "    def getState(self):\r\n",
        "        return (self.getHash(), self.getEmptySpaces(), self.curTurn)\r\n",
        "\r\n",
        "    def action_from_int(self, action_int):\r\n",
        "        return ( int(action_int / self.n_cols), int(action_int % self.n_cols))\r\n",
        "\r\n",
        "    def int_from_action(self, action):\r\n",
        "        return action[0] * self.n_cols + action[1]\r\n",
        "    \r\n",
        "    def step(self, action):\r\n",
        "        if self.board[action[0], action[1]] != 0:\r\n",
        "            return self.getState(), -10, True, {}\r\n",
        "        self.makeMove(self.curTurn, action[0], action[1])\r\n",
        "        reward = self.isTerminal()\r\n",
        "        self.curTurn = -self.curTurn\r\n",
        "        return self.getState(), 0 if reward is None else reward, reward is not None, {}\r\n",
        "\r\n",
        "    def reset(self):\r\n",
        "        self.board = np.zeros((self.n_rows, self.n_cols), dtype=int)\r\n",
        "        self.boardHash = None\r\n",
        "        self.gameOver = False\r\n",
        "        self.emptySpaces = None\r\n",
        "        self.curTurn = 1"
      ],
      "execution_count": 7,
      "outputs": []
    },
    {
      "cell_type": "code",
      "metadata": {
        "id": "AnwOW7rzdNrO"
      },
      "source": [
        "def available_actions(env):\r\n",
        "    empty_spaces = env.getEmptySpaces()\r\n",
        "    size = len(empty_spaces)\r\n",
        "    return [env.int_from_action(empty_spaces[i]) for i in range(size)]"
      ],
      "execution_count": 9,
      "outputs": []
    },
    {
      "cell_type": "code",
      "metadata": {
        "id": "qMKp4ZUnJ9w5"
      },
      "source": [
        "def epsilon_greedy(env, Q, epsilon = 0.1):\r\n",
        "    available_acts = available_actions(env)\r\n",
        "    size = len(available_acts)\r\n",
        "    state = env.getState()[0]\r\n",
        "\r\n",
        "    if state not in Q.keys():\r\n",
        "        Q[state] = np.zeros(len(available_acts))\r\n",
        "        \r\n",
        "    if np.random.random() > epsilon:\r\n",
        "        n_act = np.argmax(Q[state])\r\n",
        "    else:\r\n",
        "        n_act = np.random.choice(size)\r\n",
        "\r\n",
        "    return n_act, available_acts[n_act]"
      ],
      "execution_count": 26,
      "outputs": []
    },
    {
      "cell_type": "code",
      "metadata": {
        "id": "MbzqGnagkNUI"
      },
      "source": [
        "def step(env,\r\n",
        "         action,\r\n",
        "         crosses,\r\n",
        "         done):\r\n",
        "    \r\n",
        "    next_state, reward, done, _ = env.step(env.action_from_int(action))\r\n",
        "    reward = crosses * reward\r\n",
        "\r\n",
        "    return next_state, reward, done"
      ],
      "execution_count": 34,
      "outputs": []
    },
    {
      "cell_type": "code",
      "metadata": {
        "id": "Pn7zE0pOdMis"
      },
      "source": [
        "def Q_learning_episode(strategy,\r\n",
        "                       env,\r\n",
        "                       Q, \r\n",
        "                       lr = 0.01,\r\n",
        "                       gamma = 1.,\r\n",
        "                       crosses = 1,\r\n",
        "                       *args,\r\n",
        "                       **kwargs):\r\n",
        "    \r\n",
        "    env.reset()\r\n",
        "    done = False\r\n",
        "    \r\n",
        "    if env.curTurn != crosses:\r\n",
        "        available_acts = available_actions(env)\r\n",
        "        opponent_action = np.random.choice(available_acts)\r\n",
        "        env.step(env.action_from_int(opponent_action))\r\n",
        "        \r\n",
        "    while True:\r\n",
        "        state = env.getState()[0]\r\n",
        "        q_action, action = strategy(env, Q, *args, **kwargs)\r\n",
        "\r\n",
        "\r\n",
        "        _, reward, done = step(env, action, crosses, done)\r\n",
        "        if done:\r\n",
        "            Q[state][q_action] += lr * (reward  - Q[state][q_action])\r\n",
        "            return reward\r\n",
        "\r\n",
        "        available_acts = available_actions(env)\r\n",
        "        opponent_action = np.random.choice(available_acts)\r\n",
        "        next_state, reward, done = step(env, opponent_action, crosses, done)\r\n",
        "\r\n",
        "        if done:\r\n",
        "            Q[state][q_action] += lr * (reward  - Q[state][q_action])\r\n",
        "            return reward\r\n",
        "            \r\n",
        "        next_state = next_state[0]\r\n",
        "        if next_state in Q.keys():\r\n",
        "            Q[state][q_action] += lr * (reward + gamma * np.max(Q[next_state]) - Q[state][q_action])\r\n",
        "        else:\r\n",
        "            available_acts = available_actions(env)\r\n",
        "            Q[next_state] = np.zeros(len(available_acts))\r\n",
        "            Q[state][q_action] += lr * (reward + gamma * np.max(Q[next_state]) - Q[state][q_action])"
      ],
      "execution_count": 57,
      "outputs": []
    },
    {
      "cell_type": "code",
      "metadata": {
        "id": "cW4XC7lJolCP"
      },
      "source": [
        "def Q_learning(strategy,\r\n",
        "               env = TicTacToe(),\r\n",
        "               n_games = 100000,\r\n",
        "               verbose = True,\r\n",
        "               check_point = 1000,\r\n",
        "               crosses = 1,\r\n",
        "               *args,\r\n",
        "               **kwargs):\r\n",
        "    \r\n",
        "    Q = dict()\r\n",
        "    game_rewards_mean = list()\r\n",
        "    rewards = list()\r\n",
        "\r\n",
        "    for i in tqdm_notebook(range(n_games)):\r\n",
        "        R = Q_learning_episode(strategy, env, Q, crosses = crosses, *args, **kwargs)\r\n",
        "        rewards.append(R)\r\n",
        "        if (i % check_point == 0):\r\n",
        "            if verbose:\r\n",
        "                print(\"{}/{}\".format(i + 1, n_games) + \" avg rewards: {}\".format(np.mean(rewards)))\r\n",
        "            game_rewards_mean.append(np.mean(rewards))\r\n",
        "            rewards = list()\r\n",
        "    return Q, game_rewards_mean"
      ],
      "execution_count": 61,
      "outputs": []
    },
    {
      "cell_type": "code",
      "metadata": {
        "colab": {
          "base_uri": "https://localhost:8080/",
          "height": 67,
          "referenced_widgets": [
            "9bd35903c16f49f98630e049e33fe20f",
            "dc3efe3d6ab14322b537fdba04d564ab",
            "6983798e99384681ac008e3d724b7e32",
            "ea75ca6e960343aab43913b92c9de755",
            "d27cdd4872e442068ee8a670cdf3096d",
            "f009f630b9a6404eb87366ac9e6e18a0",
            "6f157a174eaa4f66b056479fb57044b5",
            "56113d9bd94d45cfa28b64d357df1ed7"
          ]
        },
        "id": "Vzl9ZUIvoxdU",
        "outputId": "d97e029f-d779-46bb-bde1-9b51b5fa96cd"
      },
      "source": [
        "n_games = 500\r\n",
        "Q_crosses, rewards_crosses = Q_learning(epsilon_greedy, verbose = False, crosses = 1)"
      ],
      "execution_count": 62,
      "outputs": [
        {
          "output_type": "display_data",
          "data": {
            "application/vnd.jupyter.widget-view+json": {
              "model_id": "9bd35903c16f49f98630e049e33fe20f",
              "version_minor": 0,
              "version_major": 2
            },
            "text/plain": [
              "HBox(children=(FloatProgress(value=0.0, max=100000.0), HTML(value='')))"
            ]
          },
          "metadata": {
            "tags": []
          }
        },
        {
          "output_type": "stream",
          "text": [
            "\n"
          ],
          "name": "stdout"
        }
      ]
    },
    {
      "cell_type": "code",
      "metadata": {
        "colab": {
          "base_uri": "https://localhost:8080/",
          "height": 279
        },
        "id": "Uhm24IZVo13w",
        "outputId": "b968b580-4996-42b3-e033-7a48d94e0654"
      },
      "source": [
        "plt.plot(np.array(list(range(1,101)))*1000, rewards_q_learning_crosses, label = 'Q learning, crosses 3x3 field')\r\n",
        "plt.xlabel('iteration')\r\n",
        "plt.ylabel('score')\r\n",
        "plt.legend();"
      ],
      "execution_count": 63,
      "outputs": [
        {
          "output_type": "display_data",
          "data": {
            "image/png": "[encoded data removed]",
            "text/plain": [
              "<Figure size 432x288 with 1 Axes>"
            ]
          },
          "metadata": {
            "tags": []
          }
        }
      ]
    },
    {
      "cell_type": "code",
      "metadata": {
        "id": "OrTWLWtuxkuL"
      },
      "source": [
        ""
      ],
      "execution_count": null,
      "outputs": []
    }
  ]
}